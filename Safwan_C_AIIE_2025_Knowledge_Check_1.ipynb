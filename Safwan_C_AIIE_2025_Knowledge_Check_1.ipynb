{
  "nbformat": 4,
  "nbformat_minor": 0,
  "metadata": {
    "colab": {
      "provenance": []
    },
    "kernelspec": {
      "name": "python3",
      "display_name": "Python 3"
    },
    "language_info": {
      "name": "python"
    }
  },
  "cells": [
    {
      "cell_type": "markdown",
      "metadata": {
        "id": "9Dj8pYHCHUMI"
      },
      "source": [
        "##Knowlwdge Check - 1\n"
      ]
    },
    {
      "cell_type": "markdown",
      "metadata": {
        "id": "hIzo8lkOm03D"
      },
      "source": [
        "### Printing output"
      ]
    },
    {
      "cell_type": "markdown",
      "metadata": {
        "id": "7AKKps5JXjPH"
      },
      "source": [
        "1 - Using print(), print your name and city following the format:\n",
        "\n",
        "        Name : Angela\n",
        "        City : New York\n"
      ]
    },
    {
      "cell_type": "code",
      "metadata": {
        "id": "ixFUad4Mm0Ei",
        "colab": {
          "base_uri": "https://localhost:8080/"
        },
        "outputId": "3879cc22-5944-46fc-eb99-c34b9c1d79d2"
      },
      "source": [
        "name = \"Safwan\"\n",
        "city = \"New York\"\n",
        "\n",
        "print(\"Name : \" + name)\n",
        "print(\"City : \" + city)"
      ],
      "execution_count": null,
      "outputs": [
        {
          "output_type": "stream",
          "name": "stdout",
          "text": [
            "Name : Safwan\n",
            "City : New York\n"
          ]
        }
      ]
    },
    {
      "cell_type": "markdown",
      "metadata": {
        "id": "2vonbXOxXpQH"
      },
      "source": [
        "2 - Print the message below\n",
        "\n",
        "     Emergency Alert\n",
        "     NEWS : FLASH FLOOD WARNING this area till 7:00 PM"
      ]
    },
    {
      "cell_type": "code",
      "metadata": {
        "id": "D4Iacgy_m61W",
        "colab": {
          "base_uri": "https://localhost:8080/"
        },
        "outputId": "9f766b73-f1d4-4e79-8cc4-3b4a0d52de25"
      },
      "source": [
        "print(\"Emergency Alert\")\n",
        "print(\"NEWS : FLASH FLOOD WARNING this area till 7:00 PM\")"
      ],
      "execution_count": null,
      "outputs": [
        {
          "output_type": "stream",
          "name": "stdout",
          "text": [
            "Emergency Alert\n",
            "NEWS : FLASH FLOOD WARNING this area till 7:00 PM\n"
          ]
        }
      ]
    },
    {
      "cell_type": "markdown",
      "metadata": {
        "id": "lRuqg-hamQGT"
      },
      "source": [
        "### Arithmetic Operators and Variables"
      ]
    },
    {
      "cell_type": "markdown",
      "metadata": {
        "id": "j1-O0lZgX3K1"
      },
      "source": [
        "3 - Take a number and divide it by 2, then take the output and divide it by 2, and again divide by 2. Use variables.\n",
        "\n",
        "\n",
        "    Example\n",
        "    input : 2000\n",
        "    output is: 1000 500 250\n",
        "\n"
      ]
    },
    {
      "cell_type": "code",
      "metadata": {
        "id": "3zsVDZcyl2l0",
        "colab": {
          "base_uri": "https://localhost:8080/"
        },
        "outputId": "9986cfb7-3b17-4047-d482-34fdab4a8435"
      },
      "source": [
        "number = int(input(\"Input : \"))\n",
        "result1 = number / 2\n",
        "result2 = result1 / 2\n",
        "result3 = result2 / 2\n",
        "\n",
        "print(int(result1), int(result2), int(result3))"
      ],
      "execution_count": null,
      "outputs": [
        {
          "output_type": "stream",
          "name": "stdout",
          "text": [
            "Input : 2000\n",
            "1000 500 250\n"
          ]
        }
      ]
    },
    {
      "cell_type": "markdown",
      "metadata": {
        "id": "deaFrnkLYGhJ"
      },
      "source": [
        "4 - Given three number x, y, and z,\n",
        "\n",
        "\n",
        "       Output: x to the power of z,\n",
        "               x to the power of y,\n",
        "               x minus y,\n",
        "               remainder value when x is divided by z"
      ]
    },
    {
      "cell_type": "code",
      "metadata": {
        "id": "4SZRBko7mvc-",
        "colab": {
          "base_uri": "https://localhost:8080/"
        },
        "outputId": "34eadea3-e925-47ad-e4f8-d3d878294702"
      },
      "source": [
        "x = 5\n",
        "y = 10\n",
        "z = 15\n",
        "\n",
        "print(x**z)\n",
        "print(x**y)\n",
        "print(x - y)\n",
        "print(x%2)\n",
        "\n"
      ],
      "execution_count": null,
      "outputs": [
        {
          "output_type": "stream",
          "name": "stdout",
          "text": [
            "30517578125\n",
            "9765625\n",
            "-5\n",
            "1\n"
          ]
        }
      ]
    },
    {
      "cell_type": "markdown",
      "metadata": {
        "id": "GE9xk6_TYcYN"
      },
      "source": [
        "5 - Add\n",
        "\n",
        "        4 quarters (0.25),  3 dimes (0.10), 2 nickels (0.05) and 1 cent\n",
        "        Output:  the total amount as dollars and cents."
      ]
    },
    {
      "cell_type": "code",
      "metadata": {
        "id": "UXZC9qSQsX9_",
        "colab": {
          "base_uri": "https://localhost:8080/"
        },
        "outputId": "29d4e70c-581b-4f1f-c69f-4eec6c3708ea"
      },
      "source": [
        "quarters = 0.25 * 4\n",
        "dimes = 0.10 * 3\n",
        "nickels = 0.05 * 2\n",
        "pennies = 0.01\n",
        "\n",
        "total = quarters + dimes + nickels + pennies\n",
        "\n",
        "print(\"Total is: ${r:.2f}.\".format(r = total))\n"
      ],
      "execution_count": null,
      "outputs": [
        {
          "output_type": "stream",
          "name": "stdout",
          "text": [
            "Total is: $1.41.\n"
          ]
        }
      ]
    },
    {
      "cell_type": "markdown",
      "metadata": {
        "id": "O618MLtRtynL"
      },
      "source": [
        "### Strings"
      ]
    },
    {
      "cell_type": "markdown",
      "metadata": {
        "id": "iXtnKBx8Ywy_"
      },
      "source": [
        "6 - Given the string **Python**, with the help of slicing, get **o**."
      ]
    },
    {
      "cell_type": "code",
      "metadata": {
        "id": "EOD6mIiTtOzx",
        "colab": {
          "base_uri": "https://localhost:8080/"
        },
        "outputId": "007ca586-1dba-4698-ddce-40767708574e"
      },
      "source": [
        "string = \"Python\"\n",
        "print(string[4:5])\n",
        "\n"
      ],
      "execution_count": null,
      "outputs": [
        {
          "output_type": "stream",
          "name": "stdout",
          "text": [
            "o\n"
          ]
        }
      ]
    },
    {
      "cell_type": "markdown",
      "metadata": {
        "id": "mgnqbERkY3-J"
      },
      "source": [
        "7 - Given the string **Python**, with the help of slicing get,  **tho**."
      ]
    },
    {
      "cell_type": "code",
      "metadata": {
        "id": "7R58ftspuJK3",
        "colab": {
          "base_uri": "https://localhost:8080/"
        },
        "outputId": "63bf819f-6579-4f30-e651-755e024e6a76"
      },
      "source": [
        "string = \"Python\"\n",
        "print(string[2:5])\n",
        "\n"
      ],
      "execution_count": null,
      "outputs": [
        {
          "output_type": "stream",
          "name": "stdout",
          "text": [
            "tho\n"
          ]
        }
      ]
    },
    {
      "cell_type": "markdown",
      "metadata": {
        "id": "U2g51swGY9Hf"
      },
      "source": [
        "8 - Given the string **Python Class**, with the help of slicing, get **Class**."
      ]
    },
    {
      "cell_type": "code",
      "metadata": {
        "id": "sOUYJA0FuN78",
        "colab": {
          "base_uri": "https://localhost:8080/"
        },
        "outputId": "a0e0356b-4b92-4eb6-90f1-d430fe669afa"
      },
      "source": [
        "string = \"Python Class\"\n",
        "print(string[7:13])\n",
        "\n"
      ],
      "execution_count": null,
      "outputs": [
        {
          "output_type": "stream",
          "name": "stdout",
          "text": [
            "Class\n"
          ]
        }
      ]
    },
    {
      "cell_type": "markdown",
      "metadata": {
        "id": "tLycBhPYZHsC"
      },
      "source": [
        "9 - Find the length of the String  **Welcome to Pace University**"
      ]
    },
    {
      "cell_type": "code",
      "metadata": {
        "id": "YIERKBvluUdA",
        "colab": {
          "base_uri": "https://localhost:8080/"
        },
        "outputId": "82d1d58a-76d1-483d-fec0-cd6a74f5b646"
      },
      "source": [
        "string = \"Welcome to Pace University\"\n",
        "print(len(string))\n",
        "\n"
      ],
      "execution_count": null,
      "outputs": [
        {
          "output_type": "stream",
          "name": "stdout",
          "text": [
            "26\n"
          ]
        }
      ]
    },
    {
      "cell_type": "markdown",
      "metadata": {
        "id": "l7SqRwF7ZNp8"
      },
      "source": [
        "10 - Split the String  **Welcome to Pace University**  into words"
      ]
    },
    {
      "cell_type": "code",
      "metadata": {
        "id": "1SBnxastueix",
        "colab": {
          "base_uri": "https://localhost:8080/"
        },
        "outputId": "47395e82-3d8c-4d46-d7ca-64293cd37dfa"
      },
      "source": [
        "string = \"Welcome to Pace University\"\n",
        "string.split()\n",
        "\n"
      ],
      "execution_count": null,
      "outputs": [
        {
          "output_type": "execute_result",
          "data": {
            "text/plain": [
              "['Welcome', 'to', 'Pace', 'University']"
            ]
          },
          "metadata": {},
          "execution_count": 28
        }
      ]
    },
    {
      "cell_type": "markdown",
      "metadata": {
        "id": "YK8s1_BYZSyO"
      },
      "source": [
        "11 - Replace the letter  **i**  with  **o**  in  **Artificial intelligence**"
      ]
    },
    {
      "cell_type": "code",
      "metadata": {
        "id": "EDO4NXUUuoOm",
        "colab": {
          "base_uri": "https://localhost:8080/",
          "height": 35
        },
        "outputId": "dc587015-b905-4d3f-a8f5-21b1b8c0b89c"
      },
      "source": [
        "string = \"Artificial intelligence\"\n",
        "string.replace(\"i\", \"o\")\n",
        "\n"
      ],
      "execution_count": null,
      "outputs": [
        {
          "output_type": "execute_result",
          "data": {
            "text/plain": [
              "'Artofocoal ontellogence'"
            ],
            "application/vnd.google.colaboratory.intrinsic+json": {
              "type": "string"
            }
          },
          "metadata": {},
          "execution_count": 29
        }
      ]
    },
    {
      "cell_type": "markdown",
      "metadata": {
        "id": "VLMrFwqhZeNz"
      },
      "source": [
        "12 - convert the text  **DATA Science**  into lower case ( as **data science**)"
      ]
    },
    {
      "cell_type": "code",
      "metadata": {
        "id": "T7NONPC-u94X",
        "colab": {
          "base_uri": "https://localhost:8080/",
          "height": 35
        },
        "outputId": "9d6fa6dd-42dc-49e1-fe15-44ab293a47f1"
      },
      "source": [
        "string = \"DATA Science\"\n",
        "string.lower()\n",
        "\n"
      ],
      "execution_count": null,
      "outputs": [
        {
          "output_type": "execute_result",
          "data": {
            "text/plain": [
              "'data science'"
            ],
            "application/vnd.google.colaboratory.intrinsic+json": {
              "type": "string"
            }
          },
          "metadata": {},
          "execution_count": 30
        }
      ]
    },
    {
      "cell_type": "markdown",
      "metadata": {
        "id": "4EHx_9ycZkwh"
      },
      "source": [
        "13 - convert the text  **DATA Science**  into UPPER case ( as **DATA SCIENCE**)"
      ]
    },
    {
      "cell_type": "code",
      "metadata": {
        "id": "Tg1-wbUPvUYI",
        "colab": {
          "base_uri": "https://localhost:8080/",
          "height": 35
        },
        "outputId": "65173f2c-820e-4686-e2da-8e7685086ea7"
      },
      "source": [
        "string = \"DATA Science\"\n",
        "string.upper()\n",
        "\n"
      ],
      "execution_count": null,
      "outputs": [
        {
          "output_type": "execute_result",
          "data": {
            "text/plain": [
              "'DATA SCIENCE'"
            ],
            "application/vnd.google.colaboratory.intrinsic+json": {
              "type": "string"
            }
          },
          "metadata": {},
          "execution_count": 31
        }
      ]
    },
    {
      "cell_type": "markdown",
      "metadata": {
        "id": "STL6BSOOZ44L"
      },
      "source": [
        "14 - reverse the given String  **Artificial intelligence**"
      ]
    },
    {
      "cell_type": "code",
      "metadata": {
        "id": "CJPPWcOgvdWN",
        "colab": {
          "base_uri": "https://localhost:8080/",
          "height": 35
        },
        "outputId": "0329317a-28af-422f-c02a-11c5078a569c"
      },
      "source": [
        "string = \"Artificial Intelligence\"\n",
        "string[::-1]\n",
        "\n"
      ],
      "execution_count": null,
      "outputs": [
        {
          "output_type": "execute_result",
          "data": {
            "text/plain": [
              "'ecnegilletnI laicifitrA'"
            ],
            "application/vnd.google.colaboratory.intrinsic+json": {
              "type": "string"
            }
          },
          "metadata": {},
          "execution_count": 34
        }
      ]
    },
    {
      "cell_type": "markdown",
      "metadata": {
        "id": "TU_sm0SsoGXV"
      },
      "source": [
        "###Comparision Operators"
      ]
    },
    {
      "cell_type": "markdown",
      "metadata": {
        "id": "XJYziySoaAdz"
      },
      "source": [
        "15 - Compare two number a =150, b = 225 and print if they are:\n",
        "\n",
        "        equal,\n",
        "        greater,\n",
        "        greater than or equal to,\n",
        "        less,\n",
        "        less than or equal to,  \n",
        "        not equal\n",
        "       \n",
        "        example : a < b\n",
        "                  print(\"a is less than b\")"
      ]
    },
    {
      "cell_type": "code",
      "metadata": {
        "id": "4qFJzGo3wIsC",
        "colab": {
          "base_uri": "https://localhost:8080/"
        },
        "outputId": "2b96ec8a-adcd-45fb-8100-7c4262cf1710"
      },
      "source": [
        "a = 150\n",
        "b = 225\n",
        "\n",
        "print(a == b)\n",
        "print(a > b)\n",
        "print(a >= b)\n",
        "print(a < b)\n",
        "print(a <= b)\n",
        "print(a != b)\n",
        "\n",
        "\n"
      ],
      "execution_count": null,
      "outputs": [
        {
          "output_type": "stream",
          "name": "stdout",
          "text": [
            "False\n",
            "False\n",
            "False\n",
            "True\n",
            "True\n",
            "True\n"
          ]
        }
      ]
    },
    {
      "cell_type": "markdown",
      "metadata": {
        "id": "8kbRYQGy3fsq"
      },
      "source": [
        "###Lists"
      ]
    },
    {
      "cell_type": "markdown",
      "metadata": {
        "id": "UeK6ZxU53cZF"
      },
      "source": [
        "16 - Create a **list** of **lists** of integers elements"
      ]
    },
    {
      "cell_type": "code",
      "metadata": {
        "id": "GdMdQwi33cB5"
      },
      "source": [
        "my_list = [[1,2,3], [4,5,6], [7,8,9]]"
      ],
      "execution_count": null,
      "outputs": []
    },
    {
      "cell_type": "markdown",
      "metadata": {
        "id": "pWriOAll3sCF"
      },
      "source": [
        "17 - Create a **list** of **lists** of Text elements"
      ]
    },
    {
      "cell_type": "code",
      "metadata": {
        "id": "eCXFxSi13rXa"
      },
      "source": [
        "my_list = [[\"Create\", \"a list\"], [\"of\", \"lists\"], [\"of\", \"integers\"], [\"elements\"]]"
      ],
      "execution_count": null,
      "outputs": []
    },
    {
      "cell_type": "markdown",
      "metadata": {
        "id": "8zC2JP7i3ubU"
      },
      "source": []
    }
  ]
}